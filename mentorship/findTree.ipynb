{
 "cells": [
  {
   "cell_type": "code",
   "execution_count": 1,
   "metadata": {},
   "outputs": [],
   "source": [
    "import numpy as np\n",
    "import pandas as pd"
   ]
  },
  {
   "cell_type": "code",
   "execution_count": 2,
   "metadata": {},
   "outputs": [],
   "source": [
    "df_hist = pd.read_csv(\"visual_metrics/history_tree.csv\")\n",
    "df_hist.Name = 'history'\n",
    "\n",
    "df_anthro = pd.read_csv(\"visual_metrics/anthropology_tree.csv\")\n",
    "df_anthro.Name = 'anthropology'\n",
    "\n",
    "df_lin = pd.read_csv(\"visual_metrics/linguistics_tree.csv\")\n",
    "df_lin.Name = 'linguistics'\n",
    "\n",
    "df_nurse = pd.read_csv(\"visual_metrics/nursing_tree.csv\")\n",
    "df_nurse.Name = 'nursing'\n",
    "\n",
    "df_phil = pd.read_csv(\"visual_metrics/philosophy_tree.csv\")\n",
    "df_phil.Name = 'philosophy'\n",
    "\n",
    "df_poli = pd.read_csv(\"visual_metrics/political_tree.csv\")\n",
    "df_poli.Name = 'policital science'\n",
    "\n",
    "df_microbo = pd.read_csv(\"visual_metrics/microbiology_tree.csv\")\n",
    "df_microbo.Name = 'microbibology'\n",
    "\n",
    "df_cs = pd.read_csv(\"visual_metrics/cs_tree.csv\")\n",
    "df_cs.Name = 'computer science'\n",
    "\n",
    "df_cell = pd.read_csv(\"visual_metrics/cell_tree.csv\")\n",
    "df_cell.Name = 'cell biology'\n",
    "\n",
    "df_socio = pd.read_csv(\"visual_metrics/sociology_tree.csv\")\n",
    "df_socio.Name = 'sociology'\n",
    "\n",
    "df_liter = pd.read_csv(\"visual_metrics/literature_tree.csv\")\n",
    "df_liter.Name = 'literature'\n",
    "\n",
    "df_phy = pd.read_csv(\"visual_metrics/physics_tree.csv\")\n",
    "df_phy.Name = 'physics'\n",
    "\n",
    "df_chem = pd.read_csv(\"visual_metrics/chemistry_tree.csv\")\n",
    "df_chem.Name = 'chemistry'\n",
    "\n",
    "df_math = pd.read_csv(\"visual_metrics/math_tree.csv\")\n",
    "df_math.Name = 'math'\n",
    "\n",
    "df_engi = pd.read_csv(\"visual_metrics/engineer_tree.csv\")\n",
    "df_engi.Name = 'engineering'\n",
    "\n",
    "df_neuro = pd.read_csv(\"visual_metrics/neuro_tree.csv\")\n",
    "df_neuro.Name = 'neuroscience'\n"
   ]
  },
  {
   "cell_type": "code",
   "execution_count": 3,
   "metadata": {},
   "outputs": [],
   "source": [
    "data = (df_hist,df_anthro,df_lin,df_nurse,df_phil,df_poli,df_microbo,df_cs,df_cell,df_socio,df_liter,df_phy,df_chem,df_math,df_engi,df_neuro)"
   ]
  },
  {
   "cell_type": "code",
   "execution_count": 4,
   "metadata": {},
   "outputs": [],
   "source": [
    "def find_most(width):\n",
    "    width_list = []\n",
    "\n",
    "    for i in data:\n",
    "        temp = (i.loc[i[width].idxmax()][width],\n",
    "                    i.loc[i[width].idxmax()]['name'])\n",
    "        width_list.append(temp)\n",
    "\n",
    "    return max(width_list)\n",
    "\n",
    "\n",
    "def find_tilted(radius, gender):\n",
    "    female_tilted = []\n",
    "    male_tilted = []\n",
    "\n",
    "    for i in data:\n",
    "        female = i[i['ave_degree']>0]\n",
    "        temp_1 = (female.loc[female[radius].idxmin()][radius],\n",
    "                female.loc[female[radius].idxmin()]['name'])\n",
    "        female_tilted.append(temp_1)\n",
    "\n",
    "    for i in data:\n",
    "        male = i[i['ave_degree'] < 0]\n",
    "        temp_2 = (male.loc[male[radius].idxmax()][radius],\n",
    "                male.loc[male[radius].idxmax()]['name'])\n",
    "        male_tilted.append(temp_2)\n",
    "\n",
    "    if gender == \"female\":\n",
    "        return min(female_tilted)\n",
    "\n",
    "    if gender == \"male\":\n",
    "        return max(male_tilted)\n"
   ]
  },
  {
   "cell_type": "code",
   "execution_count": 5,
   "metadata": {},
   "outputs": [
    {
     "name": "stdout",
     "output_type": "stream",
     "text": [
      "the widest tree:  (10.84370884074345, 'FRANCIS  GALTON')\n",
      "the tallest tree:  (10.620291828681957, 'FRANCIS  GALTON')\n",
      "the most female-titled tree:  (60.84252082792544, 'DONALD  REIFF')\n",
      "the most male-titled tree:  (-15.215656495718171, 'JOHANN  MULLER')\n",
      "the most female-titled field:  (81.00434839960268, 'nursing')\n",
      "the most male-titled field:  (-77.39956268935319, 'history')\n",
      "the most curly tree:  (0.1975998995944304, 'CHRISTIAN GOTTFRIED DANIEL NEES VON ESENBECK')\n"
     ]
    }
   ],
   "source": [
    "# find the widest tree among these fields\n",
    "print('the widest tree: ', find_most(\"width\"))\n",
    "\n",
    "# find the tallest tree among these fields\n",
    "print('the tallest tree: ', find_most(\"height\"))\n",
    "\n",
    "# find the most gender-tilted tree among these fields\n",
    "print('the most female-titled tree: ', find_tilted(\"ave_degree\", 'female'))\n",
    "print('the most male-titled tree: ', find_tilted(\"ave_degree\", 'male'))\n",
    "\n",
    "# find the most gender-titled fields\n",
    "field_female_titled = []\n",
    "for i in data:\n",
    "    male = i[i['ave_degree'] > 0]\n",
    "    field_female_titled.append((male['ave_degree'].mean(), i.Name))\n",
    "\n",
    "print('the most female-titled field: ', min(field_female_titled))\n",
    "\n",
    "field_male_titled = []\n",
    "for i in data:\n",
    "    male = i[i['ave_degree'] < 0]\n",
    "    field_male_titled.append((male['ave_degree'].mean(), i.Name))\n",
    "\n",
    "print('the most male-titled field: ', max(field_male_titled))\n",
    "\n",
    "# find the most curly tree among these fields\n",
    "print('the most curly tree: ', find_most(\"max_curve\"))\n"
   ]
  },
  {
   "cell_type": "code",
   "execution_count": 6,
   "metadata": {},
   "outputs": [],
   "source": [
    "all_male_tilted = []\n",
    "\n",
    "for i in data:\n",
    "    male = i[i['ave_degree'] < 0]\n",
    "    # print(male)\n",
    "    for index, row in male.iterrows():\n",
    "        temp_2 = (row[\"ave_degree\"], row['name'])\n",
    "        all_male_tilted.append(temp_2)\n"
   ]
  },
  {
   "cell_type": "code",
   "execution_count": 8,
   "metadata": {},
   "outputs": [],
   "source": [
    "df_male_tilted = pd.DataFrame(all_male_tilted, columns=[\n",
    "                              'average tilted', 'name'])\n",
    "df_male_tilted.sort_values(by='average tilted', ascending=False)\n",
    "df_male_tilted.to_csv('male_tilted.csv')\n"
   ]
  },
  {
   "cell_type": "code",
   "execution_count": null,
   "metadata": {},
   "outputs": [],
   "source": []
  }
 ],
 "metadata": {
  "interpreter": {
   "hash": "c3d3ef3c5b6c2e1fd1d6e87d6130af73de798e7011dc07760584835931d03031"
  },
  "kernelspec": {
   "display_name": "Python 3.9.7 ('base')",
   "language": "python",
   "name": "python3"
  },
  "language_info": {
   "codemirror_mode": {
    "name": "ipython",
    "version": 3
   },
   "file_extension": ".py",
   "mimetype": "text/x-python",
   "name": "python",
   "nbconvert_exporter": "python",
   "pygments_lexer": "ipython3",
   "version": "3.9.7"
  },
  "orig_nbformat": 4
 },
 "nbformat": 4,
 "nbformat_minor": 2
}
